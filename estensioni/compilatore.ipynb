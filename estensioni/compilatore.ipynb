{
  "nbformat": 4,
  "nbformat_minor": 0,
  "metadata": {
    "colab": {
      "private_outputs": true,
      "provenance": [],
      "authorship_tag": "ABX9TyMMFMeGOd3u3myWuMKeOMkz",
      "include_colab_link": true
    },
    "kernelspec": {
      "name": "python3",
      "display_name": "Python 3"
    },
    "language_info": {
      "name": "python"
    }
  },
  "cells": [
    {
      "cell_type": "markdown",
      "metadata": {
        "id": "view-in-github",
        "colab_type": "text"
      },
      "source": [
        "<a href=\"https://colab.research.google.com/github/GuerrSim96/Archimista_Ex/blob/main/compilatore.ipynb\" target=\"_parent\"><img src=\"https://colab.research.google.com/assets/colab-badge.svg\" alt=\"Open In Colab\"/></a>"
      ]
    },
    {
      "cell_type": "markdown",
      "source": [
        "<h1 align='center'>ARCHIMISTA:</h1>\n",
        "<h2 align='center'>Notebook per la sezione \"COMPILATORE\"</h2>"
      ],
      "metadata": {
        "id": "aIaxhzR1Vh6n"
      }
    },
    {
      "cell_type": "code",
      "source": [
        "#@title <p>Importazione pacchetti</p>\n",
        "from datetime import date as dt\n",
        "from datetime import timedelta as delta"
      ],
      "metadata": {
        "id": "1De38cIpViH6"
      },
      "execution_count": null,
      "outputs": []
    },
    {
      "cell_type": "code",
      "source": [
        "#@title <h2> COMPILAZIONE PRIMA REDAZIONE </h2> <h3> Compilare i campi che compaiono di seguito</h3>\n",
        "#@markdown <p align=\"center\"> Scrivere il nome e il cognome <br>del compilatore o della compilatrice: </p>\n",
        "name = \"Mario Rossi\" #@param {type:\"string\"}\n",
        "#@markdown <p align=\"center\"> Scrivere la qualifica <br> del compilatore o della compilatrice: </p>\n",
        "qlf = \"Studente\"       #@param {type:\"string\"}\n",
        "#@markdown <p align=\"center\"> Inserire il numero totale di schede prodotte: </p>\n",
        "n_doc = 1234 # @param {type:\"integer\"}\n",
        "id_doc = 1 # numero identificativo della scheda\n",
        "#@markdown  <p align=\"center\">Inserire la daata di inizio e di fine progetto nel seguente formato: <b>dd</b>/<b>mm</b>/<b>yyyy</b>\n",
        "first_day = \"25/12/2023\" #@param {type:\"string\"}\n",
        "last_day = \"10/04/2024\" #@param {type:\"string\"}\n",
        "lst_1, lst_end = first_day.split(\"/\") , last_day.split(\"/\") # Trasformare le date di input in liste\n",
        "# Forzare gli elementi nelle liste in formato integer\n",
        "d_1, m_1, y_1, d_end, m_end, y_end = int(lst_1[0]), int(lst_1[1]), int(lst_1[2]), int(lst_end[0]), int(lst_end[1]), int(lst_end[2])\n",
        "day_1, day_end = dt(y_1, m_1, d_1), dt(y_end, m_end, d_end) # Utilizzo di datetime.date\n", 
        "diff = day_end - day_1 # differenza tra date\n",
        "span_time = diff.days  # conversione del tempo in giorni\n",
        "step_time = 0          # aumento dei giorni\n",
        "x_day = n_doc // span_time # schede fatte per giorno\n",
        "with open('signature_date.txt', 'w') as arc: # apri nuovo file\n",
        "  for paper in range(n_doc):                 # setta il numero di righe del file pari al numero di documenti\n",
        "    plus = delta(days=step_time)             # giorni da aggiungere\n",
        "    d_scheda = day_1 + plus                  # giorno di completamento della scheda\n",
        "  # contenuto dell riga da scrivere all'interno del file\n",
        "    arc.writelines('{\"unit_editor\":{\"unit_id\":'+str(id_doc)+',\"name\":\"'+name+\n",
        "                   '\",\"qualifier\":\"'+qlf+'\",\"editing_type\":\"prima redazione\",\"edited_at\":\"'\n",
        "                   +str(d_scheda)+'\",\"legacy_id\":\"'+str(id_doc)+'\"}} \\n')\n",
        "    mlp = id_doc % x_day # calcolo dello scarto\n",
        "    id_doc+=1            # contatore schede\n",
        "    if mlp == 0:         # condizione (ciclo if)\n",
        "      step_time+=1       # contatore giorni"
      ],
      "metadata": {
        "id": "FFeG_1qTb0FI"
      },
      "execution_count": null,
      "outputs": []
    }
  ]
}
