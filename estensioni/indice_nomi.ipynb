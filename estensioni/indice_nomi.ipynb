{
  "nbformat": 4,
  "nbformat_minor": 0,
  "metadata": {
    "colab": {
      "private_outputs": true,
      "provenance": [],
      "authorship_tag": "ABX9TyOG3K74kXGX5wOV8pQZ1yUJ",
      "include_colab_link": true
    },
    "kernelspec": {
      "name": "python3",
      "display_name": "Python 3"
    },
    "language_info": {
      "name": "python"
    }
  },
  "cells": [
    {
      "cell_type": "markdown",
      "metadata": {
        "id": "view-in-github",
        "colab_type": "text"
      },
      "source": [
        "<a href=\"https://colab.research.google.com/github/GuerrSim96/Archimista_Ex/blob/main/Indice_dei_nomi.ipynb\" target=\"_parent\"><img src=\"https://colab.research.google.com/assets/colab-badge.svg\" alt=\"Open In Colab\"/></a>"
      ]
    },
    {
      "cell_type": "markdown",
      "source": [
        "<h1>INDICE DEI NOMI</h1><p align='right'><sub>(necessario quando viene prodotto l'inventario cartaceo)</sub></p>"
      ],
      "metadata": {
        "id": "vKSE2c1HuFsN"
      }
    },
    {
      "cell_type": "code",
      "source": [
        "# @title <h2> Importazione dei pacchetti </h2>\n",
        "!pip install PyMuPDF\n",
        "import re\n",
        "import os\n",
        "import shutil as sh\n",
        "import fitz"
      ],
      "metadata": {
        "cellView": "form",
        "id": "heThxYriM742"
      },
      "execution_count": null,
      "outputs": []
    },
    {
      "cell_type": "code",
      "source": [
        "# @title <h2> Impostazione parametri:\n",
        "# @markdown <p> Inseriere il nome del file esportato da Archimista (con estensione .txt):</p>\n",
        "input_file = \"\" # @param {type:\"string\"}\n",
        "# @markdown <p> Inseriere il nome del file contenente l'inventario (con estensione .pdf):</p>\n",
        "pdf = \"\" # @param {type:\"string\"}\n",
        "# @markdown <p> Selezionare con il cursore il numero di sottoserie presenti nel file di input:</p>\n",
        "tot_sserie = 6 # @param {type:\"slider\", min:1, max:20, step:1}\n",
        "n_sserie, serie = 1, [] # Creazione del contatore e lista vuota\n",
        "while n_sserie <= tot_sserie: # Ciclo while per creare liste\n",
        "  output, lst_output, sserie= f'sottoserie_{n_sserie}.txt', [], [] # Creazione elemento lista e liste vuote\n",
        " # Funzione input() per inserire gli estremi delle sottoserie\n",
        "  ttl_1 = input(f'inserisci il titolo del primo documento contenuto nella {str(n_sserie)}^ sottoserie: ')\n",
        "  ttl_end = input(f'inserisci il titolo dell\\'ultimo documento contenuto nella {str(n_sserie)}^ sottoserie: ')\n",
        " # Funzione lista.append(elemento) per riempire le liste\n",
        "  sserie.append(ttl_1)\n",
        "  sserie.append(ttl_end)\n",
        "  serie.append(sserie)\n",
        "  lst_output.append(output)\n",
        "  n_sserie += 1 # Avanzamento del contatore"
      ],
      "metadata": {
        "cellView": "form",
        "id": "Mk9j5OtsFqEM"
      },
      "execution_count": null,
      "outputs": []
    },
    {
      "cell_type": "code",
      "source": [
        "# @title <h2> Estrazione: Nomi e Cognomi </h2>\n",
        "part_cog = ['De', 'Di', 'La', 'Lo', 'Della', 'Del'] # Lista perticelle cognomi\n",
        "for count, out in enumerate(lst_output): # Ciclo for: enumerate(lista) fornisce la posizione dell' elemento e l'elemento stesso\n",
        " # Aprertura file in modalità lettura e ottenimento del contenuto\n",
        "  with open(input_file, 'r', encoding='utf-8') as file:\n",
        "    lines = file.readlines()\n",
        " # Creazione variabili nulle e ottenimento dell'elemento i-esimo della lista\n",
        "  start_index, end_index, n_lst = None, None, serie[count]\n",
        "  for row, line in enumerate(lines): # Assegnazione del numero di riga alla variabile\n",
        "    if f\"<unittitle localtype='denominazione'>{n_lst[0]}</unittitle>\" in line:\n",
        "      start_index = row # Assegnazione del numero di riga alla variabile\n",
        "    elif f\"<unittitle localtype='denominazione'>{n_lst[1]}</unittitle>\" in line:\n",
        "      end_index = row # Assegnazione del numero di riga alla variabile\n",
        "      break\n",
        "  if start_index is not None and end_index is not None:\n",
        "    selected_lines = lines[start_index:end_index + 1]\n",
        "    with open(out, 'w', encoding='utf-8') as file_output: # Creazione di un file vuoto\n",
        "      file_output.writelines(selected_lines) # Scrittura del file\n",
        " # Aprertura file in modalità lettura e ottenimento del contenuto\n",
        "  with open(out, 'r') as read_file:\n",
        "    lines = read_file.readlines()\n",
        "    if count == 0:\n",
        "      with open('sserie_merged.txt', 'w') as created_file:\n",
        "        created_file.write(lines)\n",
        "    else:\n",
        "      with open('sserie_merged.txt', 'a') as add_to_file:\n",
        "        add_to_file.write(lines)\n",
        "# Creazione e ricerca del pattern\n",
        "pattern, list_name = re.compile(r'<unittitle localtype=\\'denominazione\\'>(.*?)</unittitle>'), []\n",
        "with open('sserie_merged.txt', 'r') as cleaning_file: # Creazione di un file vuoto\n",
        "  lines = cleaning_file.readlines() # Scrittura del file\n",
        "for line in lines: # Ciclo for per ricercare in ogni riga del file\n",
        "  matches= re.findall(pattern, line)\n",
        "for match_name in matches:\n",
        "  clean_name_1 = ''.join(car for car in match_name if not (car.isdigit() or car == '.')) # Eliminazione di numeri e punteggiatura\n",
        "  clean_name_2 = [word.lstrip() for word in clean_name_1] # Lambda per eliminazione degli spazi prima e dopo l'elemento\n",
        "  list_name.append(clean_name_2) # Inserimento in lista il nome trovato\n",
        "# @markdown <p>Generalmente sui documenti (e quindi nei titoli delle schede su Archimista) i soggetti vengono riportati come \"NOME COGNOME\", ma dato che la ricerca avviene tramite COGNOME bisogna riordinare i soggetti \"COGNOME NOME\".</p>\n",
        "list_cog = [] # Creazione lista vuota\n",
        "for person in list_name:\n",
        "  lst_pers_1 = person.split() # Trasformazione di stringa in lista\n",
        "  while 'bis' in lst_pers_1: # Ciclo while\n",
        "    lst_pers_1.remove('bis') # Rimozione della particella \"bis\"\n",
        "  if len(lst_pers_1) == 2: # Ciclo if: se la lista contiene 2 elementi\n",
        "      lst_pers_1[0], lst_pers_1[1] = lst_pers_1[1], lst_pers_1[0] # Inverti l'Ordine degli elementi\n",
        "  elif len(lst_pers_1) == 3: # se la lista contiene 3 elementi\n",
        "    if set(part_cog) & set(lst_pers_1): # Ciclo if: se il cognome presenta una particella\n",
        "      lst_pers_1 = lst_pers_1[1:] + [lst_pers_1[0]] # Sposta il primo elemento alla fine della lista\n",
        "    else: # altrimenti marchia il soggetto\n",
        "      lst_pers_1 = ['0'] + lst_pers_1\n",
        "  else: # altrimenti marchia il soggetto\n",
        "      lst_pers_1 = ['0'] + lst_pers_1\n",
        "  clean_name_3 = ' '.join(lst_pers_1)  # Trasforma elemnto della lista in stringa separando ogni elemento da uno spazio\n",
        "  list_cog.append(clean_name_3) # Inserimento dei nomi \"permutati\" all'interno di una lista\n",
        "ordered_list_cog, last_output = [], 'INDICE_NOMI_DEFINITIVO.txt'\n",
        "for cname in list_cog:\n",
        "  set_cog = set(list_cog) # Eliminare dei duplicati dalla lista\n",
        "  ordered_list_cog = sorted(set_cog) # Ordinare alfabetico degli elementi in lista\n",
        "\n",
        "for c_n in ordered_list_cog:\n",
        "  lst_pers_2 = line.split()\n",
        "  if len(lst_pers_2) == 2:\n",
        "      lst_pers_2[0], lst_pers_2[1] = lst_pers_2[1], lst_pers_2[0]\n",
        "  elif len(lst_pers_2) == 3:\n",
        "    if set(part_cog) & set(lst_pers_2):\n",
        "      x=[]\n",
        "      x.append(lst_pers_2[2])\n",
        "      lst_pers_2 = x + lst_pers_2[:2]\n",
        "      rev_name = ' '.join(lst_pers_2)\n",
        "  lst_inverted.append(rev_name)\n",
        "with open(last_output, 'w') as last:\n",
        "  for n_c in lst_inverted:\n",
        "    x = list(n_c)\n",
        "    if '0' in x:\n",
        "      continue\n",
        "    else:\n",
        "      inventory = fitz.open(pdf)\n",
        "      for num in range(inventory.page_count):\n",
        "        page = inventory[num]\n",
        "        text = page.get_text()\n",
        "        if line.strip() in text:\n",
        "          page_num = []\n",
        "          i = str(num + 1)  # L'indice è 0-based\n",
        "          page_num.append(i)\n",
        "          all_page = \", \".join(page_num)\n",
        "          last.writelines(f'{line.strip()} {all_page}\\n')"
      ],
      "metadata": {
        "cellView": "form",
        "id": "Vkx6GQ1qko4P"
      },
      "execution_count": null,
      "outputs": []
    },
    {
      "cell_type": "code",
      "source": [
        "#@title <h2> Esportazione del file contenente l'indice dei nomi e i file input associati.\n",
        "folder = 'INDICE_NOMI' # Creazione variabile\n",
        "if not os.path.exists(folder): # Ciclo if: se non esiste\n",
        "  os.mkdir(folder) # Crea una cartella con il nome della variabile\n",
        "  print(f'{folder} folder has been created') # Messaggio a schermo\n",
        "else: # Altrimenti non creare la cartella\n",
        "  print(f'{folder} folder already exists') # Messaggio a schermo\n",
        "lst_export = [input_file, pdf, last_output] # Creazione lista\n",
        "for file_text in lst_export: # Ciclo for: elemnti in lista\n",
        "  sh.copy2(file_text, folder) # Copia dei file nella cartella\n",
        "sh.make_archive(f'{folder}_COMPLETO', 'zip', folder) # Compressione della cartella\n",
        "# Download della cartella compressa\n",
        "from google.colab import files\n",
        "files.download(f'{folder}_COMPLETO.zip')"
      ],
      "metadata": {
        "cellView": "form",
        "id": "QyyBmPQwFwy2"
      },
      "execution_count": null,
      "outputs": []
    }
  ]
}
